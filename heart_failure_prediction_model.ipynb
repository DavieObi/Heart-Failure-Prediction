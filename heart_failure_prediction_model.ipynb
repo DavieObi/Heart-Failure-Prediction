{
  "nbformat": 4,
  "nbformat_minor": 0,
  "metadata": {
    "colab": {
      "provenance": []
    },
    "kernelspec": {
      "name": "python3",
      "display_name": "Python 3"
    },
    "language_info": {
      "name": "python"
    }
  },
  "cells": [
    {
      "cell_type": "code",
      "source": [
        "# Import libraries\n",
        "import pandas as pd\n",
        "import numpy as np\n",
        "from sklearn.model_selection import train_test_split\n",
        "from sklearn.preprocessing import StandardScaler\n",
        "from xgboost import XGBClassifier\n",
        "from sklearn.metrics import accuracy_score, classification_report\n",
        "import joblib\n",
        "\n",
        "# Load dataset\n",
        "df = pd.read_csv('heart_failure_clinical_records_dataset (1).csv')\n",
        "\n",
        "# Feature Engineering\n",
        "df['creatinine_sodium_ratio'] = df['serum_creatinine'] / df['serum_sodium']\n",
        "df['cpk_platelet_ratio'] = df['creatinine_phosphokinase'] / df['platelets']\n",
        "df['anaemia_diabetes'] = df['anaemia'] * df['diabetes']\n",
        "df['bp_smoking'] = df['high_blood_pressure'] * df['smoking']\n",
        "df['age_ejection_interaction'] = df['age'] * df['ejection_fraction']\n",
        "\n",
        "# Drop irrelevant columns\n",
        "X = df.drop(['DEATH_EVENT', 'time'], axis=1)\n",
        "y = df['DEATH_EVENT']\n",
        "\n",
        "# Train-test split\n",
        "X_train, X_test, y_train, y_test = train_test_split(X, y, test_size=0.2, random_state=42, stratify=y)\n",
        "\n",
        "# Scale features\n",
        "scaler = StandardScaler()\n",
        "X_train_scaled = scaler.fit_transform(X_train)\n",
        "X_test_scaled = scaler.transform(X_test)\n",
        "\n",
        "# Train XGBoost\n",
        "model = XGBClassifier(\n",
        "    n_estimators=100,\n",
        "    max_depth=3,\n",
        "    learning_rate=0.1,\n",
        "    subsample=0.8,\n",
        "    eval_metric='logloss',\n",
        "    use_label_encoder=False\n",
        ")\n",
        "model.fit(X_train_scaled, y_train)\n",
        "\n",
        "# Evaluate\n",
        "y_pred = model.predict(X_test_scaled)\n",
        "acc = accuracy_score(y_test, y_pred)\n",
        "print(f\"Model Accuracy: {acc * 100:.2f}%\")\n",
        "print(\"Classification Report:\\n\", classification_report(y_test, y_pred))\n",
        "\n",
        "# Save model and scaler\n",
        "joblib.dump(model, 'xgboost_heart_failure_model.pkl')\n",
        "joblib.dump(scaler, 'scaler.pkl')"
      ],
      "metadata": {
        "colab": {
          "base_uri": "https://localhost:8080/"
        },
        "id": "ePQAdOc5_0FV",
        "outputId": "b35b779c-604d-4c09-cc6b-c2100070c64b"
      },
      "execution_count": 3,
      "outputs": [
        {
          "output_type": "stream",
          "name": "stderr",
          "text": [
            "/usr/local/lib/python3.11/dist-packages/xgboost/core.py:158: UserWarning: [22:40:59] WARNING: /workspace/src/learner.cc:740: \n",
            "Parameters: { \"use_label_encoder\" } are not used.\n",
            "\n",
            "  warnings.warn(smsg, UserWarning)\n"
          ]
        },
        {
          "output_type": "stream",
          "name": "stdout",
          "text": [
            "Model Accuracy: 81.67%\n",
            "Classification Report:\n",
            "               precision    recall  f1-score   support\n",
            "\n",
            "           0       0.84      0.90      0.87        41\n",
            "           1       0.75      0.63      0.69        19\n",
            "\n",
            "    accuracy                           0.82        60\n",
            "   macro avg       0.80      0.77      0.78        60\n",
            "weighted avg       0.81      0.82      0.81        60\n",
            "\n"
          ]
        },
        {
          "output_type": "execute_result",
          "data": {
            "text/plain": [
              "['scaler.pkl']"
            ]
          },
          "metadata": {},
          "execution_count": 3
        }
      ]
    }
  ]
}